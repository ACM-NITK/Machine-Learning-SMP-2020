{
  "cells": [
    {
      "metadata": {},
      "cell_type": "markdown",
      "source": "# Assignment 2\n___________________________________________________________________________________________________________________________\n\n \n ### _Data analysis with pandas_\n ===========================================================================================================================\n \n *In this task you should use Pandas to answer a few questions about the adult dataset given in the folder.*\n \n Unique values of all features:\n   * `age`: continuous.\n   \n   * `workclass`: Private, Self-emp-not-inc, Self-emp-inc, Federal-gov, Local-gov, State-gov, Without-pay, Never-worked.\n   \n   * `fnlwgt`: continuous.\n   \n   * `education`: Bachelors, Some-college, 11th, HS-grad, Prof-school, Assoc-acdm, Assoc-voc, 9th, 7th-8th, 12th, Masters, 1st-4th, 10th, Doctorate, 5th-6th, Preschool.\n   \n   * `education-num`: continuous.\n   \n   * `marital-status`: Married-civ-spouse, Divorced, Never-married, Separated, Widowed, Married-spouse-absent, Married-AF-spouse.\n   \n   * `occupation`: Tech-support, Craft-repair, Other-service, Sales, Exec-managerial, Prof-specialty, Handlers-cleaners, Machine-op-inspct, Adm-clerical, Farming-fishing, Transport-moving, Priv-house-serv, Protective-serv, Armed-Forces.\n   \n   * `relationship`: Wife, Own-child, Husband, Not-in-family, Other-relative, Unmarried.\n   \n   * `race`: White, Asian-Pac-Islander, Amer-Indian-Eskimo, Other, Black.\n   \n   * `sex`: Female, Male.\n   \n   * `capital-gain`: continuous.\n   \n   * `capital-loss`: continuous.\n   \n   * `hours-per-week`: continuous.\n   \n   * `native-country`: United-States, Cambodia, England, Puerto-Rico, Canada, Germany, Outlying-US(Guam-USVI-etc), India, Japan, Greece, South, China, Cuba, Iran, Honduras, Philippines, Italy, Poland, Jamaica, Vietnam, Mexico, Portugal, Ireland, France, Dominican-Republic, Laos, Ecuador, Taiwan, Haiti, Columbia, Hungary, Guatemala, Nicaragua, Scotland, Thailand, Yugoslavia, El-Salvador, Trinadad&Tobago, Peru, Hong, Holand-Netherlands.\n   \n   * `salary`: >50K,<=50K"
    },
    {
      "metadata": {
        "trusted": true
      },
      "cell_type": "code",
      "source": "import pandas as pd",
      "execution_count": 16,
      "outputs": []
    },
    {
      "metadata": {
        "trusted": true
      },
      "cell_type": "code",
      "source": "df = pd.read_csv('https://raw.githubusercontent.com/ACM-NITK/Machine-Learning-SMP-2020/master/Assingments/Week2/adult_data.csv')\ndf.head()",
      "execution_count": 17,
      "outputs": [
        {
          "output_type": "execute_result",
          "execution_count": 17,
          "data": {
            "text/plain": "   age         workclass  fnlwgt  education  education-num  \\\n0   39         State-gov   77516  Bachelors             13   \n1   50  Self-emp-not-inc   83311  Bachelors             13   \n2   38           Private  215646    HS-grad              9   \n3   53           Private  234721       11th              7   \n4   28           Private  338409  Bachelors             13   \n\n       marital-status         occupation   relationship   race     sex  \\\n0       Never-married       Adm-clerical  Not-in-family  White    Male   \n1  Married-civ-spouse    Exec-managerial        Husband  White    Male   \n2            Divorced  Handlers-cleaners  Not-in-family  White    Male   \n3  Married-civ-spouse  Handlers-cleaners        Husband  Black    Male   \n4  Married-civ-spouse     Prof-specialty           Wife  Black  Female   \n\n   capital-gain  capital-loss  hours-per-week native-country salary  \n0          2174             0              40  United-States  <=50K  \n1             0             0              13  United-States  <=50K  \n2             0             0              40  United-States  <=50K  \n3             0             0              40  United-States  <=50K  \n4             0             0              40           Cuba  <=50K  ",
            "text/html": "<div>\n<table border=\"1\" class=\"dataframe\">\n  <thead>\n    <tr style=\"text-align: right;\">\n      <th></th>\n      <th>age</th>\n      <th>workclass</th>\n      <th>fnlwgt</th>\n      <th>education</th>\n      <th>education-num</th>\n      <th>marital-status</th>\n      <th>occupation</th>\n      <th>relationship</th>\n      <th>race</th>\n      <th>sex</th>\n      <th>capital-gain</th>\n      <th>capital-loss</th>\n      <th>hours-per-week</th>\n      <th>native-country</th>\n      <th>salary</th>\n    </tr>\n  </thead>\n  <tbody>\n    <tr>\n      <th>0</th>\n      <td>39</td>\n      <td>State-gov</td>\n      <td>77516</td>\n      <td>Bachelors</td>\n      <td>13</td>\n      <td>Never-married</td>\n      <td>Adm-clerical</td>\n      <td>Not-in-family</td>\n      <td>White</td>\n      <td>Male</td>\n      <td>2174</td>\n      <td>0</td>\n      <td>40</td>\n      <td>United-States</td>\n      <td>&lt;=50K</td>\n    </tr>\n    <tr>\n      <th>1</th>\n      <td>50</td>\n      <td>Self-emp-not-inc</td>\n      <td>83311</td>\n      <td>Bachelors</td>\n      <td>13</td>\n      <td>Married-civ-spouse</td>\n      <td>Exec-managerial</td>\n      <td>Husband</td>\n      <td>White</td>\n      <td>Male</td>\n      <td>0</td>\n      <td>0</td>\n      <td>13</td>\n      <td>United-States</td>\n      <td>&lt;=50K</td>\n    </tr>\n    <tr>\n      <th>2</th>\n      <td>38</td>\n      <td>Private</td>\n      <td>215646</td>\n      <td>HS-grad</td>\n      <td>9</td>\n      <td>Divorced</td>\n      <td>Handlers-cleaners</td>\n      <td>Not-in-family</td>\n      <td>White</td>\n      <td>Male</td>\n      <td>0</td>\n      <td>0</td>\n      <td>40</td>\n      <td>United-States</td>\n      <td>&lt;=50K</td>\n    </tr>\n    <tr>\n      <th>3</th>\n      <td>53</td>\n      <td>Private</td>\n      <td>234721</td>\n      <td>11th</td>\n      <td>7</td>\n      <td>Married-civ-spouse</td>\n      <td>Handlers-cleaners</td>\n      <td>Husband</td>\n      <td>Black</td>\n      <td>Male</td>\n      <td>0</td>\n      <td>0</td>\n      <td>40</td>\n      <td>United-States</td>\n      <td>&lt;=50K</td>\n    </tr>\n    <tr>\n      <th>4</th>\n      <td>28</td>\n      <td>Private</td>\n      <td>338409</td>\n      <td>Bachelors</td>\n      <td>13</td>\n      <td>Married-civ-spouse</td>\n      <td>Prof-specialty</td>\n      <td>Wife</td>\n      <td>Black</td>\n      <td>Female</td>\n      <td>0</td>\n      <td>0</td>\n      <td>40</td>\n      <td>Cuba</td>\n      <td>&lt;=50K</td>\n    </tr>\n  </tbody>\n</table>\n</div>"
          },
          "metadata": {}
        }
      ]
    },
    {
      "metadata": {},
      "cell_type": "markdown",
      "source": "### 1. How many men and women are represented in this dataset?"
    },
    {
      "metadata": {
        "trusted": true
      },
      "cell_type": "code",
      "source": "g=df.groupby('sex')\na=g.get_group('Male').shape[0]\nb=g.get_group('Female').shape[0]\nprint(a,b)",
      "execution_count": 18,
      "outputs": [
        {
          "output_type": "stream",
          "text": "21790 10771\n",
          "name": "stdout"
        }
      ]
    },
    {
      "metadata": {},
      "cell_type": "markdown",
      "source": "### 2. What is the average age of women?"
    },
    {
      "metadata": {
        "trusted": true
      },
      "cell_type": "code",
      "source": "g=df.groupby('sex')\na=g.get_group('Female')\na.age.mean()\n\n",
      "execution_count": 19,
      "outputs": [
        {
          "output_type": "execute_result",
          "execution_count": 19,
          "data": {
            "text/plain": "36.85823043357163"
          },
          "metadata": {}
        }
      ]
    },
    {
      "metadata": {},
      "cell_type": "markdown",
      "source": "### 3. What is the percentage of german citizens?"
    },
    {
      "metadata": {
        "trusted": true
      },
      "cell_type": "code",
      "source": "g=df.groupby('native-country')\na=df.shape[0]\nb=g.get_group('Germany').shape[0]\nprint(b/a*100)\n",
      "execution_count": 20,
      "outputs": [
        {
          "output_type": "stream",
          "text": "0.42074874850281013\n",
          "name": "stdout"
        }
      ]
    },
    {
      "metadata": {},
      "cell_type": "markdown",
      "source": "### 4. What is the mean of age for those who earn more than 50K per year and those who earn less than 50K per year? "
    },
    {
      "metadata": {
        "trusted": true
      },
      "cell_type": "code",
      "source": "g=df.groupby('salary')\na=g.get_group('>50K')\nx=a['age'].mean() \nb=g.get_group('<=50K')\ny=b['age'].mean()\nprint(x,y)",
      "execution_count": 21,
      "outputs": [
        {
          "output_type": "stream",
          "text": "44.24984058155847 36.78373786407767\n",
          "name": "stdout"
        }
      ]
    },
    {
      "metadata": {},
      "cell_type": "markdown",
      "source": "### 5. What is the standard deviation of age for those who earn more than 50K per year and those who earn less than 50K per year? "
    },
    {
      "metadata": {
        "trusted": true
      },
      "cell_type": "code",
      "source": "print(a.age.std() ,b.age.std())\n",
      "execution_count": 22,
      "outputs": [
        {
          "output_type": "stream",
          "text": "10.51902771985177 14.020088490824813\n",
          "name": "stdout"
        }
      ]
    },
    {
      "metadata": {},
      "cell_type": "markdown",
      "source": "### 6. Is it true that people who earn more than 50K have at least high school education?"
    },
    {
      "metadata": {
        "trusted": true
      },
      "cell_type": "code",
      "source": "c=a[a['education-num']>=9].shape[0]\nif(c>0):\n    print(\"True\")\nelse:\n    print(\"False\")\n\n",
      "execution_count": 23,
      "outputs": [
        {
          "output_type": "stream",
          "text": "True\n",
          "name": "stdout"
        }
      ]
    },
    {
      "metadata": {},
      "cell_type": "markdown",
      "source": "### 7. Display age statistics for each race and each gender. Use groupby() and describe(). Find the maximum age of men of Amer-Indian-Eskimo race."
    },
    {
      "metadata": {
        "trusted": true
      },
      "cell_type": "code",
      "source": "g=df.groupby('race')\nh=df.groupby('sex')\nprint(h.age.describe())\nprint(g.age.describe())\nprint(g.get_group('Amer-Indian-Eskimo').age.max())\n",
      "execution_count": 26,
      "outputs": [
        {
          "output_type": "stream",
          "text": "sex          \nFemale  count    10771.000000\n        mean        36.858230\n        std         14.013697\n        min         17.000000\n        25%         25.000000\n        50%         35.000000\n        75%         46.000000\n        max         90.000000\nMale    count    21790.000000\n        mean        39.433547\n        std         13.370630\n        min         17.000000\n        25%         29.000000\n        50%         38.000000\n        75%         48.000000\n        max         90.000000\nName: age, dtype: float64\nrace                     \nAmer-Indian-Eskimo  count      311.000000\n                    mean        37.173633\n                    std         12.447130\n                    min         17.000000\n                    25%         28.000000\n                    50%         35.000000\n                    75%         45.500000\n                    max         82.000000\nAsian-Pac-Islander  count     1039.000000\n                    mean        37.746872\n                    std         12.825133\n                    min         17.000000\n                    25%         28.000000\n                    50%         36.000000\n                    75%         45.000000\n                    max         90.000000\nBlack               count     3124.000000\n                    mean        37.767926\n                    std         12.759290\n                    min         17.000000\n                    25%         28.000000\n                    50%         36.000000\n                    75%         46.000000\n                    max         90.000000\nOther               count      271.000000\n                    mean        33.457565\n                    std         11.538865\n                    min         17.000000\n                    25%         25.000000\n                    50%         31.000000\n                    75%         41.000000\n                    max         77.000000\nWhite               count    27816.000000\n                    mean        38.769881\n                    std         13.782306\n                    min         17.000000\n                    25%         28.000000\n                    50%         37.000000\n                    75%         48.000000\n                    max         90.000000\nName: age, dtype: float64\n82\n",
          "name": "stdout"
        }
      ]
    },
    {
      "metadata": {},
      "cell_type": "markdown",
      "source": "### 8. Among whom is the proportion of those who earn a lot (>50K) greater: married or single men? Consider as married those who have a marital-status starting with Married (Married-civ-spouse, Married-spouse-absent or Married-AF-spouse), the rest are considered bachelors."
    },
    {
      "metadata": {
        "trusted": true
      },
      "cell_type": "code",
      "source": "g=df.groupby('salary')\ni=g.get_group('>50K')\nmar1 = i[i['marital-status'] == 'Married-civ-spouse'].shape[0]\nmar2 = i[i['marital-status'] == 'Married-spouse-absent'].shape[0]\nmar3 = i[i['marital-status'] == 'Married-AF-spouse'].shape[0]\nmar_total = mar1+mar2+mar3\nall = i.shape[0]\nunmarried = all - mar_total\nif(mar_total>unmarried):\n    print(\"Married men\")\nelse:\n    print(\"Single men\")",
      "execution_count": 31,
      "outputs": [
        {
          "output_type": "stream",
          "text": "Married men\n",
          "name": "stdout"
        }
      ]
    },
    {
      "metadata": {},
      "cell_type": "markdown",
      "source": "### 9. What is the maximum number of hours a person works per week? How many people work such a number of hours, and what is the percentage of those who earn a lot (>50K) among them?"
    },
    {
      "metadata": {
        "trusted": true
      },
      "cell_type": "code",
      "source": "g = df['hours-per-week'].max()\nh = df.groupby('hours-per-week')\ni = h.get_group(g).shape[0]\ntotal_ppl = h.get_group(g).groupby('salary').get_group('>50K').shape[0]\nprint(g,i,total_ppl/i*100)",
      "execution_count": 86,
      "outputs": [
        {
          "output_type": "stream",
          "text": "99 85 29.411764705882355\n",
          "name": "stdout"
        }
      ]
    },
    {
      "metadata": {},
      "cell_type": "markdown",
      "source": "### 10. Count the average time of work for those who earn a little and a lot for each country. What will these be for Japan?"
    },
    {
      "metadata": {
        "trusted": true
      },
      "cell_type": "code",
      "source": "g=df.groupby(['native-country','salary'])['hours-per-week'].mean()\nh=df.groupby('native-country').get_group('Japan').groupby('salary')['hours-per-week'].mean()\nprint(g,h)\n",
      "execution_count": 117,
      "outputs": [
        {
          "output_type": "stream",
          "text": "native-country              salary\n?                           <=50K     40.164760\n                            >50K      45.547945\nCambodia                    <=50K     41.416667\n                            >50K      40.000000\nCanada                      <=50K     37.914634\n                            >50K      45.641026\nChina                       <=50K     37.381818\n                            >50K      38.900000\nColumbia                    <=50K     38.684211\n                            >50K      50.000000\nCuba                        <=50K     37.985714\n                            >50K      42.440000\nDominican-Republic          <=50K     42.338235\n                            >50K      47.000000\nEcuador                     <=50K     38.041667\n                            >50K      48.750000\nEl-Salvador                 <=50K     36.030928\n                            >50K      45.000000\nEngland                     <=50K     40.483333\n                            >50K      44.533333\nFrance                      <=50K     41.058824\n                            >50K      50.750000\nGermany                     <=50K     39.139785\n                            >50K      44.977273\nGreece                      <=50K     41.809524\n                            >50K      50.625000\nGuatemala                   <=50K     39.360656\n                            >50K      36.666667\nHaiti                       <=50K     36.325000\n                            >50K      42.750000\n                                        ...    \nMexico                      >50K      46.575758\nNicaragua                   <=50K     36.093750\n                            >50K      37.500000\nOutlying-US(Guam-USVI-etc)  <=50K     41.857143\nPeru                        <=50K     35.068966\n                            >50K      40.000000\nPhilippines                 <=50K     38.065693\n                            >50K      43.032787\nPoland                      <=50K     38.166667\n                            >50K      39.000000\nPortugal                    <=50K     41.939394\n                            >50K      41.500000\nPuerto-Rico                 <=50K     38.470588\n                            >50K      39.416667\nScotland                    <=50K     39.444444\n                            >50K      46.666667\nSouth                       <=50K     40.156250\n                            >50K      51.437500\nTaiwan                      <=50K     33.774194\n                            >50K      46.800000\nThailand                    <=50K     42.866667\n                            >50K      58.333333\nTrinadad&Tobago             <=50K     37.058824\n                            >50K      40.000000\nUnited-States               <=50K     38.799127\n                            >50K      45.505369\nVietnam                     <=50K     37.193548\n                            >50K      39.200000\nYugoslavia                  <=50K     41.600000\n                            >50K      49.500000\nName: hours-per-week, dtype: float64 salary\n<=50K    41.000000\n>50K     47.958333\nName: hours-per-week, dtype: float64\n",
          "name": "stdout"
        }
      ]
    }
  ],
  "metadata": {
    "kernelspec": {
      "name": "python3",
      "display_name": "Python 3",
      "language": "python"
    },
    "language_info": {
      "mimetype": "text/x-python",
      "nbconvert_exporter": "python",
      "name": "python",
      "file_extension": ".py",
      "version": "3.5.4",
      "pygments_lexer": "ipython3",
      "codemirror_mode": {
        "version": 3,
        "name": "ipython"
      }
    }
  },
  "nbformat": 4,
  "nbformat_minor": 2
}