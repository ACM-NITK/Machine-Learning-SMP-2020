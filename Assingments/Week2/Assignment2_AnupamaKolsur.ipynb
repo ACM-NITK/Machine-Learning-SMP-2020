{
 "cells": [
  {
   "cell_type": "markdown",
   "metadata": {},
   "source": [
    "# Assignment 2\n",
    "___________________________________________________________________________________________________________________________\n",
    "\n",
    " \n",
    " ### _Data analysis with pandas_\n",
    " ===========================================================================================================================\n",
    " \n",
    " *In this task you should use Pandas to answer a few questions about the adult dataset given in the folder.*\n",
    " \n",
    " Unique values of all features:\n",
    "   * `age`: continuous.\n",
    "   \n",
    "   * `workclass`: Private, Self-emp-not-inc, Self-emp-inc, Federal-gov, Local-gov, State-gov, Without-pay, Never-worked.\n",
    "   \n",
    "   * `fnlwgt`: continuous.\n",
    "   \n",
    "   * `education`: Bachelors, Some-college, 11th, HS-grad, Prof-school, Assoc-acdm, Assoc-voc, 9th, 7th-8th, 12th, Masters, 1st-4th, 10th, Doctorate, 5th-6th, Preschool.\n",
    "   \n",
    "   * `education-num`: continuous.\n",
    "   \n",
    "   * `marital-status`: Married-civ-spouse, Divorced, Never-married, Separated, Widowed, Married-spouse-absent, Married-AF-spouse.\n",
    "   \n",
    "   * `occupation`: Tech-support, Craft-repair, Other-service, Sales, Exec-managerial, Prof-specialty, Handlers-cleaners, Machine-op-inspct, Adm-clerical, Farming-fishing, Transport-moving, Priv-house-serv, Protective-serv, Armed-Forces.\n",
    "   \n",
    "   * `relationship`: Wife, Own-child, Husband, Not-in-family, Other-relative, Unmarried.\n",
    "   \n",
    "   * `race`: White, Asian-Pac-Islander, Amer-Indian-Eskimo, Other, Black.\n",
    "   \n",
    "   * `sex`: Female, Male.\n",
    "   \n",
    "   * `capital-gain`: continuous.\n",
    "   \n",
    "   * `capital-loss`: continuous.\n",
    "   \n",
    "   * `hours-per-week`: continuous.\n",
    "   \n",
    "   * `native-country`: United-States, Cambodia, England, Puerto-Rico, Canada, Germany, Outlying-US(Guam-USVI-etc), India, Japan, Greece, South, China, Cuba, Iran, Honduras, Philippines, Italy, Poland, Jamaica, Vietnam, Mexico, Portugal, Ireland, France, Dominican-Republic, Laos, Ecuador, Taiwan, Haiti, Columbia, Hungary, Guatemala, Nicaragua, Scotland, Thailand, Yugoslavia, El-Salvador, Trinadad&Tobago, Peru, Hong, Holand-Netherlands.\n",
    "   \n",
    "   * `salary`: >50K,<=50K"
   ]
  },
  {
   "cell_type": "code",
   "execution_count": 2,
   "metadata": {},
   "outputs": [],
   "source": [
    "import pandas as pd"
   ]
  },
  {
   "cell_type": "code",
   "execution_count": 3,
   "metadata": {},
   "outputs": [
    {
     "data": {
      "text/html": [
       "<div>\n",
       "<style scoped>\n",
       "    .dataframe tbody tr th:only-of-type {\n",
       "        vertical-align: middle;\n",
       "    }\n",
       "\n",
       "    .dataframe tbody tr th {\n",
       "        vertical-align: top;\n",
       "    }\n",
       "\n",
       "    .dataframe thead th {\n",
       "        text-align: right;\n",
       "    }\n",
       "</style>\n",
       "<table border=\"1\" class=\"dataframe\">\n",
       "  <thead>\n",
       "    <tr style=\"text-align: right;\">\n",
       "      <th></th>\n",
       "      <th>age</th>\n",
       "      <th>workclass</th>\n",
       "      <th>fnlwgt</th>\n",
       "      <th>education</th>\n",
       "      <th>education-num</th>\n",
       "      <th>marital-status</th>\n",
       "      <th>occupation</th>\n",
       "      <th>relationship</th>\n",
       "      <th>race</th>\n",
       "      <th>sex</th>\n",
       "      <th>capital-gain</th>\n",
       "      <th>capital-loss</th>\n",
       "      <th>hours-per-week</th>\n",
       "      <th>native-country</th>\n",
       "      <th>salary</th>\n",
       "    </tr>\n",
       "  </thead>\n",
       "  <tbody>\n",
       "    <tr>\n",
       "      <th>0</th>\n",
       "      <td>39</td>\n",
       "      <td>State-gov</td>\n",
       "      <td>77516</td>\n",
       "      <td>Bachelors</td>\n",
       "      <td>13</td>\n",
       "      <td>Never-married</td>\n",
       "      <td>Adm-clerical</td>\n",
       "      <td>Not-in-family</td>\n",
       "      <td>White</td>\n",
       "      <td>Male</td>\n",
       "      <td>2174</td>\n",
       "      <td>0</td>\n",
       "      <td>40</td>\n",
       "      <td>United-States</td>\n",
       "      <td>&lt;=50K</td>\n",
       "    </tr>\n",
       "    <tr>\n",
       "      <th>1</th>\n",
       "      <td>50</td>\n",
       "      <td>Self-emp-not-inc</td>\n",
       "      <td>83311</td>\n",
       "      <td>Bachelors</td>\n",
       "      <td>13</td>\n",
       "      <td>Married-civ-spouse</td>\n",
       "      <td>Exec-managerial</td>\n",
       "      <td>Husband</td>\n",
       "      <td>White</td>\n",
       "      <td>Male</td>\n",
       "      <td>0</td>\n",
       "      <td>0</td>\n",
       "      <td>13</td>\n",
       "      <td>United-States</td>\n",
       "      <td>&lt;=50K</td>\n",
       "    </tr>\n",
       "    <tr>\n",
       "      <th>2</th>\n",
       "      <td>38</td>\n",
       "      <td>Private</td>\n",
       "      <td>215646</td>\n",
       "      <td>HS-grad</td>\n",
       "      <td>9</td>\n",
       "      <td>Divorced</td>\n",
       "      <td>Handlers-cleaners</td>\n",
       "      <td>Not-in-family</td>\n",
       "      <td>White</td>\n",
       "      <td>Male</td>\n",
       "      <td>0</td>\n",
       "      <td>0</td>\n",
       "      <td>40</td>\n",
       "      <td>United-States</td>\n",
       "      <td>&lt;=50K</td>\n",
       "    </tr>\n",
       "    <tr>\n",
       "      <th>3</th>\n",
       "      <td>53</td>\n",
       "      <td>Private</td>\n",
       "      <td>234721</td>\n",
       "      <td>11th</td>\n",
       "      <td>7</td>\n",
       "      <td>Married-civ-spouse</td>\n",
       "      <td>Handlers-cleaners</td>\n",
       "      <td>Husband</td>\n",
       "      <td>Black</td>\n",
       "      <td>Male</td>\n",
       "      <td>0</td>\n",
       "      <td>0</td>\n",
       "      <td>40</td>\n",
       "      <td>United-States</td>\n",
       "      <td>&lt;=50K</td>\n",
       "    </tr>\n",
       "    <tr>\n",
       "      <th>4</th>\n",
       "      <td>28</td>\n",
       "      <td>Private</td>\n",
       "      <td>338409</td>\n",
       "      <td>Bachelors</td>\n",
       "      <td>13</td>\n",
       "      <td>Married-civ-spouse</td>\n",
       "      <td>Prof-specialty</td>\n",
       "      <td>Wife</td>\n",
       "      <td>Black</td>\n",
       "      <td>Female</td>\n",
       "      <td>0</td>\n",
       "      <td>0</td>\n",
       "      <td>40</td>\n",
       "      <td>Cuba</td>\n",
       "      <td>&lt;=50K</td>\n",
       "    </tr>\n",
       "  </tbody>\n",
       "</table>\n",
       "</div>"
      ],
      "text/plain": [
       "   age         workclass  fnlwgt  education  education-num  \\\n",
       "0   39         State-gov   77516  Bachelors             13   \n",
       "1   50  Self-emp-not-inc   83311  Bachelors             13   \n",
       "2   38           Private  215646    HS-grad              9   \n",
       "3   53           Private  234721       11th              7   \n",
       "4   28           Private  338409  Bachelors             13   \n",
       "\n",
       "       marital-status         occupation   relationship   race     sex  \\\n",
       "0       Never-married       Adm-clerical  Not-in-family  White    Male   \n",
       "1  Married-civ-spouse    Exec-managerial        Husband  White    Male   \n",
       "2            Divorced  Handlers-cleaners  Not-in-family  White    Male   \n",
       "3  Married-civ-spouse  Handlers-cleaners        Husband  Black    Male   \n",
       "4  Married-civ-spouse     Prof-specialty           Wife  Black  Female   \n",
       "\n",
       "   capital-gain  capital-loss  hours-per-week native-country salary  \n",
       "0          2174             0              40  United-States  <=50K  \n",
       "1             0             0              13  United-States  <=50K  \n",
       "2             0             0              40  United-States  <=50K  \n",
       "3             0             0              40  United-States  <=50K  \n",
       "4             0             0              40           Cuba  <=50K  "
      ]
     },
     "execution_count": 3,
     "metadata": {},
     "output_type": "execute_result"
    }
   ],
   "source": [
    "data = pd.read_csv('adult_data.csv')\n",
    "data.head()"
   ]
  },
  {
   "cell_type": "markdown",
   "metadata": {},
   "source": [
    "### 1. How many men and women are represented in this dataset?"
   ]
  },
  {
   "cell_type": "code",
   "execution_count": 4,
   "metadata": {},
   "outputs": [
    {
     "data": {
      "text/plain": [
       "Male      21790\n",
       "Female    10771\n",
       "Name: sex, dtype: int64"
      ]
     },
     "execution_count": 4,
     "metadata": {},
     "output_type": "execute_result"
    }
   ],
   "source": [
    "# insert your code here\n",
    "data['sex'].value_counts()"
   ]
  },
  {
   "cell_type": "markdown",
   "metadata": {},
   "source": [
    "### 2. What is the average age of women?"
   ]
  },
  {
   "cell_type": "code",
   "execution_count": 5,
   "metadata": {},
   "outputs": [
    {
     "data": {
      "text/plain": [
       "36.85823043357163"
      ]
     },
     "execution_count": 5,
     "metadata": {},
     "output_type": "execute_result"
    }
   ],
   "source": [
    "# insert your code here\n",
    "data[data['sex']=='Female']['age'].mean()"
   ]
  },
  {
   "cell_type": "markdown",
   "metadata": {},
   "source": [
    "### 3. What is the percentage of german citizens?"
   ]
  },
  {
   "cell_type": "code",
   "execution_count": 6,
   "metadata": {},
   "outputs": [
    {
     "data": {
      "text/plain": [
       "0.42074874850281013"
      ]
     },
     "execution_count": 6,
     "metadata": {},
     "output_type": "execute_result"
    }
   ],
   "source": [
    "# insert your code here\n",
    "germany=data[data['native-country']=='Germany']['native-country'].count()\n",
    "total= data['native-country'].count()\n",
    "percentage=(germany/total)*100\n",
    "percentage"
   ]
  },
  {
   "cell_type": "markdown",
   "metadata": {},
   "source": [
    "### 4. What is the mean of age for those who earn more than 50K per year and those who earn less than 50K per year? "
   ]
  },
  {
   "cell_type": "code",
   "execution_count": 7,
   "metadata": {},
   "outputs": [
    {
     "name": "stdout",
     "output_type": "stream",
     "text": [
      "Mean of age for those who earn more than 50K per year :  44.24984058155847\n",
      "Mean of age for those who earn less than 50K per year :  36.78373786407767\n"
     ]
    }
   ],
   "source": [
    "# insert your code here\n",
    "print (\"Mean of age for those who earn more than 50K per year : \",data[data['salary']==\">50K\"][\"age\"].mean())\n",
    "print (\"Mean of age for those who earn less than 50K per year : \",data[data['salary']==\"<=50K\"][\"age\"].mean())\n"
   ]
  },
  {
   "cell_type": "markdown",
   "metadata": {},
   "source": [
    "### 5. What is the standard deviation of age for those who earn more than 50K per year and those who earn less than 50K per year? "
   ]
  },
  {
   "cell_type": "code",
   "execution_count": 8,
   "metadata": {},
   "outputs": [
    {
     "name": "stdout",
     "output_type": "stream",
     "text": [
      "standard deviation of age for those who earn more than 50K per year 10.51902771985177\n",
      "standard deviation of age for those who earn less than 50K per year 14.020088490824813\n"
     ]
    }
   ],
   "source": [
    "# insert your code here\n",
    "print(\"standard deviation of age for those who earn more than 50K per year\",data[data['salary']==\">50K\"][\"age\"].std())\n",
    "print(\"standard deviation of age for those who earn less than 50K per year\",data[data['salary']==\"<=50K\"][\"age\"].std())\n",
    "\n"
   ]
  },
  {
   "cell_type": "markdown",
   "metadata": {},
   "source": [
    "### 6. Is it true that people who earn more than 50K have at least high school education?"
   ]
  },
  {
   "cell_type": "code",
   "execution_count": 9,
   "metadata": {},
   "outputs": [
    {
     "data": {
      "text/plain": [
       "True"
      ]
     },
     "execution_count": 9,
     "metadata": {},
     "output_type": "execute_result"
    }
   ],
   "source": [
    "# insert your code here\n",
    "arr=[\"Preschool\",\"1st-4th\",\"5th-6th\",\"7th-8th\",\"9th\",\"10th\",\"11th\",\"12th\"]\n",
    "~data.loc[data['salary']==\">50K\"][\"education\"].isin(arr).all()\n"
   ]
  },
  {
   "cell_type": "markdown",
   "metadata": {},
   "source": [
    "### 7. Display age statistics for each race and each gender. Use groupby() and describe(). Find the maximum age of men of Amer-Indian-Eskimo race."
   ]
  },
  {
   "cell_type": "code",
   "execution_count": 10,
   "metadata": {},
   "outputs": [
    {
     "name": "stdout",
     "output_type": "stream",
     "text": [
      "RACE STATISTICS                         age                                                \\\n",
      "                      count       mean        std   min   25%   50%   75%   \n",
      "race                                                                        \n",
      "Amer-Indian-Eskimo    311.0  37.173633  12.447130  17.0  28.0  35.0  45.5   \n",
      "Asian-Pac-Islander   1039.0  37.746872  12.825133  17.0  28.0  36.0  45.0   \n",
      "Black                3124.0  37.767926  12.759290  17.0  28.0  36.0  46.0   \n",
      "Other                 271.0  33.457565  11.538865  17.0  25.0  31.0  41.0   \n",
      "White               27816.0  38.769881  13.782306  17.0  28.0  37.0  48.0   \n",
      "\n",
      "                           fnlwgt                 ... capital-loss          \\\n",
      "                     max    count           mean  ...          75%     max   \n",
      "race                                              ...                        \n",
      "Amer-Indian-Eskimo  82.0    311.0  120831.147910  ...          0.0  1980.0   \n",
      "Asian-Pac-Islander  90.0   1039.0  159940.609240  ...          0.0  2457.0   \n",
      "Black               90.0   3124.0  228013.124200  ...          0.0  4356.0   \n",
      "Other               77.0    271.0  197124.191882  ...          0.0  2179.0   \n",
      "White               90.0  27816.0  187298.064280  ...          0.0  4356.0   \n",
      "\n",
      "                   hours-per-week                                         \\\n",
      "                            count       mean        std  min   25%   50%   \n",
      "race                                                                       \n",
      "Amer-Indian-Eskimo          311.0  40.048232  11.695364  3.0  40.0  40.0   \n",
      "Asian-Pac-Islander         1039.0  40.127045  12.556816  1.0  40.0  40.0   \n",
      "Black                      3124.0  38.422855  10.315646  1.0  37.0  40.0   \n",
      "Other                       271.0  39.468635  11.143755  5.0  36.0  40.0   \n",
      "White                     27816.0  40.689100  12.544796  1.0  40.0  40.0   \n",
      "\n",
      "                                \n",
      "                     75%   max  \n",
      "race                            \n",
      "Amer-Indian-Eskimo  40.0  84.0  \n",
      "Asian-Pac-Islander  40.0  99.0  \n",
      "Black               40.0  99.0  \n",
      "Other               40.0  98.0  \n",
      "White               45.0  99.0  \n",
      "\n",
      "[5 rows x 48 columns]\n",
      "GENDER STATISTICS             age                                                       fnlwgt  \\\n",
      "          count       mean        std   min   25%   50%   75%   max    count   \n",
      "sex                                                                            \n",
      "Female  10771.0  36.858230  14.013697  17.0  25.0  35.0  46.0  90.0  10771.0   \n",
      "Male    21790.0  39.433547  13.370630  17.0  29.0  38.0  48.0  90.0  21790.0   \n",
      "\n",
      "                       ... capital-loss         hours-per-week             \\\n",
      "                 mean  ...          75%     max          count       mean   \n",
      "sex                    ...                                                  \n",
      "Female  185746.311206  ...          0.0  4356.0        10771.0  36.410361   \n",
      "Male    191771.449013  ...          0.0  3770.0        21790.0  42.428086   \n",
      "\n",
      "                                                \n",
      "              std  min   25%   50%   75%   max  \n",
      "sex                                             \n",
      "Female  11.811300  1.0  30.0  40.0  40.0  99.0  \n",
      "Male    12.119755  1.0  40.0  40.0  49.0  99.0  \n",
      "\n",
      "[2 rows x 48 columns]\n"
     ]
    }
   ],
   "source": [
    "# insert your code here\n",
    "race_stat=data.groupby(\"race\").describe()\n",
    "gender_stat=data.groupby(\"sex\").describe()\n",
    "print (\"RACE STATISTICS\",race_stat)\n",
    "print(\"GENDER STATISTICS\",gender_stat)"
   ]
  },
  {
   "cell_type": "markdown",
   "metadata": {},
   "source": [
    "### 8. Among whom is the proportion of those who earn a lot (>50K) greater: married or single men? Consider as married those who have a marital-status starting with Married (Married-civ-spouse, Married-spouse-absent or Married-AF-spouse), the rest are considered bachelors."
   ]
  },
  {
   "cell_type": "code",
   "execution_count": 11,
   "metadata": {},
   "outputs": [
    {
     "name": "stdout",
     "output_type": "stream",
     "text": [
      "Proportion of married men is greater\n"
     ]
    }
   ],
   "source": [
    "# insert your code here\n",
    "array=[\"Married-civ-spouse\",\"Married-spouse-absent\",\"Married-AF-spouse\"]\n",
    "mar_prop= data[data[\"salary\"]==\">50K\"][\"marital-status\"].isin(array).value_counts()\n",
    "if mar_prop[True]>mar_prop[False]:\n",
    "    print(\"Proportion of married men is greater\")\n",
    "else:\n",
    "    print(\"Proportion of single men is greater\")"
   ]
  },
  {
   "cell_type": "markdown",
   "metadata": {},
   "source": [
    "### 9. What is the maximum number of hours a person works per week? How many people work such a number of hours, and what is the percentage of those who earn a lot (>50K) among them?"
   ]
  },
  {
   "cell_type": "code",
   "execution_count": 31,
   "metadata": {},
   "outputs": [
    {
     "name": "stdout",
     "output_type": "stream",
     "text": [
      "maximum number of hours a person works per week :  99\n",
      "number of people working such a number of hours :  85\n",
      "percentage of those who earn a lot (>50K) among them :  29.411764705882355\n"
     ]
    }
   ],
   "source": [
    "# insert your code here\n",
    "max_hrs=data[\"hours-per-week\"].max()\n",
    "data[data[\"hours-per-week\"]==max_hrs].count().max()\n",
    "max_50K = (data[data[\"hours-per-week\"]==data[\"hours-per-week\"].max()][\"salary\"]==\">50K\").value_counts()\n",
    "percentage= (max_50K[True]/max_no)*100\n",
    "print (\"maximum number of hours a person works per week : \",max_hrs)\n",
    "print (\"number of people working such a number of hours : \",max_no)\n",
    "print (\"percentage of those who earn a lot (>50K) among them : \",percentage)"
   ]
  },
  {
   "cell_type": "markdown",
   "metadata": {},
   "source": [
    "### 10. Count the average time of work for those who earn a little and a lot for each country. What will these be for Japan?"
   ]
  },
  {
   "cell_type": "code",
   "execution_count": 32,
   "metadata": {},
   "outputs": [
    {
     "name": "stdout",
     "output_type": "stream",
     "text": [
      "? <=50K 40.16475972540046\n",
      "? >50K 45.54794520547945\n",
      "Cambodia <=50K 41.416666666666664\n",
      "Cambodia >50K 40.0\n",
      "Canada <=50K 37.91463414634146\n",
      "Canada >50K 45.64102564102564\n",
      "China <=50K 37.38181818181818\n",
      "China >50K 38.9\n",
      "Columbia <=50K 38.68421052631579\n",
      "Columbia >50K 50.0\n",
      "Cuba <=50K 37.98571428571429\n",
      "Cuba >50K 42.44\n",
      "Dominican-Republic <=50K 42.338235294117645\n",
      "Dominican-Republic >50K 47.0\n",
      "Ecuador <=50K 38.041666666666664\n",
      "Ecuador >50K 48.75\n",
      "El-Salvador <=50K 36.03092783505155\n",
      "El-Salvador >50K 45.0\n",
      "England <=50K 40.483333333333334\n",
      "England >50K 44.53333333333333\n",
      "France <=50K 41.05882352941177\n",
      "France >50K 50.75\n",
      "Germany <=50K 39.13978494623656\n",
      "Germany >50K 44.97727272727273\n",
      "Greece <=50K 41.80952380952381\n",
      "Greece >50K 50.625\n",
      "Guatemala <=50K 39.36065573770492\n",
      "Guatemala >50K 36.666666666666664\n",
      "Haiti <=50K 36.325\n",
      "Haiti >50K 42.75\n",
      "Holand-Netherlands <=50K 40.0\n",
      "Honduras <=50K 34.333333333333336\n",
      "Honduras >50K 60.0\n",
      "Hong <=50K 39.142857142857146\n",
      "Hong >50K 45.0\n",
      "Hungary <=50K 31.3\n",
      "Hungary >50K 50.0\n",
      "India <=50K 38.233333333333334\n",
      "India >50K 46.475\n",
      "Iran <=50K 41.44\n",
      "Iran >50K 47.5\n",
      "Ireland <=50K 40.94736842105263\n",
      "Ireland >50K 48.0\n",
      "Italy <=50K 39.625\n",
      "Italy >50K 45.4\n",
      "Jamaica <=50K 38.23943661971831\n",
      "Jamaica >50K 41.1\n",
      "Japan <=50K 41.0\n",
      "Japan >50K 47.958333333333336\n",
      "Laos <=50K 40.375\n",
      "Laos >50K 40.0\n",
      "Mexico <=50K 40.00327868852459\n",
      "Mexico >50K 46.57575757575758\n",
      "Nicaragua <=50K 36.09375\n",
      "Nicaragua >50K 37.5\n",
      "Outlying-US(Guam-USVI-etc) <=50K 41.857142857142854\n",
      "Peru <=50K 35.06896551724138\n",
      "Peru >50K 40.0\n",
      "Philippines <=50K 38.065693430656935\n",
      "Philippines >50K 43.032786885245905\n",
      "Poland <=50K 38.166666666666664\n",
      "Poland >50K 39.0\n",
      "Portugal <=50K 41.93939393939394\n",
      "Portugal >50K 41.5\n",
      "Puerto-Rico <=50K 38.470588235294116\n",
      "Puerto-Rico >50K 39.416666666666664\n",
      "Scotland <=50K 39.44444444444444\n",
      "Scotland >50K 46.666666666666664\n",
      "South <=50K 40.15625\n",
      "South >50K 51.4375\n",
      "Taiwan <=50K 33.774193548387096\n",
      "Taiwan >50K 46.8\n",
      "Thailand <=50K 42.86666666666667\n",
      "Thailand >50K 58.333333333333336\n",
      "Trinadad&Tobago <=50K 37.05882352941177\n",
      "Trinadad&Tobago >50K 40.0\n",
      "United-States <=50K 38.79912723305605\n",
      "United-States >50K 45.50536884674383\n",
      "Vietnam <=50K 37.193548387096776\n",
      "Vietnam >50K 39.2\n",
      "Yugoslavia <=50K 41.6\n",
      "Yugoslavia >50K 49.5\n"
     ]
    }
   ],
   "source": [
    "# insert your code here\n",
    "for(country,salary),sub_df in data.groupby([\"native-country\",\"salary\"]):\n",
    "   print(country, salary, sub_df['hours-per-week'].mean())"
   ]
  }
 ],
 "metadata": {
  "kernelspec": {
   "display_name": "Python 3",
   "language": "python",
   "name": "python3"
  },
  "language_info": {
   "codemirror_mode": {
    "name": "ipython",
    "version": 3
   },
   "file_extension": ".py",
   "mimetype": "text/x-python",
   "name": "python",
   "nbconvert_exporter": "python",
   "pygments_lexer": "ipython3",
   "version": "3.7.6"
  }
 },
 "nbformat": 4,
 "nbformat_minor": 2
}
