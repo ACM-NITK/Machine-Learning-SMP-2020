{
 "cells": [
  {
   "cell_type": "markdown",
   "metadata": {},
   "source": [
    "# Assignment 2\n",
    "___________________________________________________________________________________________________________________________\n",
    "\n",
    " \n",
    " ### _Data analysis with pandas_\n",
    " ===========================================================================================================================\n",
    " \n",
    " *In this task you should use Pandas to answer a few questions about the adult dataset given in the folder.*\n",
    " \n",
    " Unique values of all features:\n",
    "   * `age`: continuous.\n",
    "   \n",
    "   * `workclass`: Private, Self-emp-not-inc, Self-emp-inc, Federal-gov, Local-gov, State-gov, Without-pay, Never-worked.\n",
    "   \n",
    "   * `fnlwgt`: continuous.\n",
    "   \n",
    "   * `education`: Bachelors, Some-college, 11th, HS-grad, Prof-school, Assoc-acdm, Assoc-voc, 9th, 7th-8th, 12th, Masters, 1st-4th, 10th, Doctorate, 5th-6th, Preschool.\n",
    "   \n",
    "   * `education-num`: continuous.\n",
    "   \n",
    "   * `marital-status`: Married-civ-spouse, Divorced, Never-married, Separated, Widowed, Married-spouse-absent, Married-AF-spouse.\n",
    "   \n",
    "   * `occupation`: Tech-support, Craft-repair, Other-service, Sales, Exec-managerial, Prof-specialty, Handlers-cleaners, Machine-op-inspct, Adm-clerical, Farming-fishing, Transport-moving, Priv-house-serv, Protective-serv, Armed-Forces.\n",
    "   \n",
    "   * `relationship`: Wife, Own-child, Husband, Not-in-family, Other-relative, Unmarried.\n",
    "   \n",
    "   * `race`: White, Asian-Pac-Islander, Amer-Indian-Eskimo, Other, Black.\n",
    "   \n",
    "   * `sex`: Female, Male.\n",
    "   \n",
    "   * `capital-gain`: continuous.\n",
    "   \n",
    "   * `capital-loss`: continuous.\n",
    "   \n",
    "   * `hours-per-week`: continuous.\n",
    "   \n",
    "   * `native-country`: United-States, Cambodia, England, Puerto-Rico, Canada, Germany, Outlying-US(Guam-USVI-etc), India, Japan, Greece, South, China, Cuba, Iran, Honduras, Philippines, Italy, Poland, Jamaica, Vietnam, Mexico, Portugal, Ireland, France, Dominican-Republic, Laos, Ecuador, Taiwan, Haiti, Columbia, Hungary, Guatemala, Nicaragua, Scotland, Thailand, Yugoslavia, El-Salvador, Trinadad&Tobago, Peru, Hong, Holand-Netherlands.\n",
    "   \n",
    "   * `salary`: >50K,<=50K"
   ]
  },
  {
   "cell_type": "code",
   "execution_count": 1,
   "metadata": {},
   "outputs": [],
   "source": [
    "import pandas as pd"
   ]
  },
  {
   "cell_type": "code",
   "execution_count": 3,
   "metadata": {},
   "outputs": [
    {
     "data": {
      "text/html": [
       "<div>\n",
       "<style scoped>\n",
       "    .dataframe tbody tr th:only-of-type {\n",
       "        vertical-align: middle;\n",
       "    }\n",
       "\n",
       "    .dataframe tbody tr th {\n",
       "        vertical-align: top;\n",
       "    }\n",
       "\n",
       "    .dataframe thead th {\n",
       "        text-align: right;\n",
       "    }\n",
       "</style>\n",
       "<table border=\"1\" class=\"dataframe\">\n",
       "  <thead>\n",
       "    <tr style=\"text-align: right;\">\n",
       "      <th></th>\n",
       "      <th>age</th>\n",
       "      <th>workclass</th>\n",
       "      <th>fnlwgt</th>\n",
       "      <th>education</th>\n",
       "      <th>education-num</th>\n",
       "      <th>marital-status</th>\n",
       "      <th>occupation</th>\n",
       "      <th>relationship</th>\n",
       "      <th>race</th>\n",
       "      <th>sex</th>\n",
       "      <th>capital-gain</th>\n",
       "      <th>capital-loss</th>\n",
       "      <th>hours-per-week</th>\n",
       "      <th>native-country</th>\n",
       "      <th>salary</th>\n",
       "    </tr>\n",
       "  </thead>\n",
       "  <tbody>\n",
       "    <tr>\n",
       "      <th>0</th>\n",
       "      <td>39</td>\n",
       "      <td>State-gov</td>\n",
       "      <td>77516</td>\n",
       "      <td>Bachelors</td>\n",
       "      <td>13</td>\n",
       "      <td>Never-married</td>\n",
       "      <td>Adm-clerical</td>\n",
       "      <td>Not-in-family</td>\n",
       "      <td>White</td>\n",
       "      <td>Male</td>\n",
       "      <td>2174</td>\n",
       "      <td>0</td>\n",
       "      <td>40</td>\n",
       "      <td>United-States</td>\n",
       "      <td>&lt;=50K</td>\n",
       "    </tr>\n",
       "    <tr>\n",
       "      <th>1</th>\n",
       "      <td>50</td>\n",
       "      <td>Self-emp-not-inc</td>\n",
       "      <td>83311</td>\n",
       "      <td>Bachelors</td>\n",
       "      <td>13</td>\n",
       "      <td>Married-civ-spouse</td>\n",
       "      <td>Exec-managerial</td>\n",
       "      <td>Husband</td>\n",
       "      <td>White</td>\n",
       "      <td>Male</td>\n",
       "      <td>0</td>\n",
       "      <td>0</td>\n",
       "      <td>13</td>\n",
       "      <td>United-States</td>\n",
       "      <td>&lt;=50K</td>\n",
       "    </tr>\n",
       "    <tr>\n",
       "      <th>2</th>\n",
       "      <td>38</td>\n",
       "      <td>Private</td>\n",
       "      <td>215646</td>\n",
       "      <td>HS-grad</td>\n",
       "      <td>9</td>\n",
       "      <td>Divorced</td>\n",
       "      <td>Handlers-cleaners</td>\n",
       "      <td>Not-in-family</td>\n",
       "      <td>White</td>\n",
       "      <td>Male</td>\n",
       "      <td>0</td>\n",
       "      <td>0</td>\n",
       "      <td>40</td>\n",
       "      <td>United-States</td>\n",
       "      <td>&lt;=50K</td>\n",
       "    </tr>\n",
       "    <tr>\n",
       "      <th>3</th>\n",
       "      <td>53</td>\n",
       "      <td>Private</td>\n",
       "      <td>234721</td>\n",
       "      <td>11th</td>\n",
       "      <td>7</td>\n",
       "      <td>Married-civ-spouse</td>\n",
       "      <td>Handlers-cleaners</td>\n",
       "      <td>Husband</td>\n",
       "      <td>Black</td>\n",
       "      <td>Male</td>\n",
       "      <td>0</td>\n",
       "      <td>0</td>\n",
       "      <td>40</td>\n",
       "      <td>United-States</td>\n",
       "      <td>&lt;=50K</td>\n",
       "    </tr>\n",
       "    <tr>\n",
       "      <th>4</th>\n",
       "      <td>28</td>\n",
       "      <td>Private</td>\n",
       "      <td>338409</td>\n",
       "      <td>Bachelors</td>\n",
       "      <td>13</td>\n",
       "      <td>Married-civ-spouse</td>\n",
       "      <td>Prof-specialty</td>\n",
       "      <td>Wife</td>\n",
       "      <td>Black</td>\n",
       "      <td>Female</td>\n",
       "      <td>0</td>\n",
       "      <td>0</td>\n",
       "      <td>40</td>\n",
       "      <td>Cuba</td>\n",
       "      <td>&lt;=50K</td>\n",
       "    </tr>\n",
       "  </tbody>\n",
       "</table>\n",
       "</div>"
      ],
      "text/plain": [
       "   age         workclass  fnlwgt  education  education-num  \\\n",
       "0   39         State-gov   77516  Bachelors             13   \n",
       "1   50  Self-emp-not-inc   83311  Bachelors             13   \n",
       "2   38           Private  215646    HS-grad              9   \n",
       "3   53           Private  234721       11th              7   \n",
       "4   28           Private  338409  Bachelors             13   \n",
       "\n",
       "       marital-status         occupation   relationship   race     sex  \\\n",
       "0       Never-married       Adm-clerical  Not-in-family  White    Male   \n",
       "1  Married-civ-spouse    Exec-managerial        Husband  White    Male   \n",
       "2            Divorced  Handlers-cleaners  Not-in-family  White    Male   \n",
       "3  Married-civ-spouse  Handlers-cleaners        Husband  Black    Male   \n",
       "4  Married-civ-spouse     Prof-specialty           Wife  Black  Female   \n",
       "\n",
       "   capital-gain  capital-loss  hours-per-week native-country salary  \n",
       "0          2174             0              40  United-States  <=50K  \n",
       "1             0             0              13  United-States  <=50K  \n",
       "2             0             0              40  United-States  <=50K  \n",
       "3             0             0              40  United-States  <=50K  \n",
       "4             0             0              40           Cuba  <=50K  "
      ]
     },
     "execution_count": 3,
     "metadata": {},
     "output_type": "execute_result"
    }
   ],
   "source": [
    "data = pd.read_csv('adult_data.csv')\n",
    "data.head()"
   ]
  },
  {
   "cell_type": "markdown",
   "metadata": {},
   "source": [
    "### 1. How many men and women are represented in this dataset?"
   ]
  },
  {
   "cell_type": "code",
   "execution_count": 4,
   "metadata": {},
   "outputs": [
    {
     "data": {
      "text/plain": [
       "Male      21790\n",
       "Female    10771\n",
       "Name: sex, dtype: int64"
      ]
     },
     "execution_count": 4,
     "metadata": {},
     "output_type": "execute_result"
    }
   ],
   "source": [
    "# insert your code here\n",
    "pd.value_counts(data['sex'])"
   ]
  },
  {
   "cell_type": "markdown",
   "metadata": {},
   "source": [
    "### 2. What is the average age of women?"
   ]
  },
  {
   "cell_type": "code",
   "execution_count": 5,
   "metadata": {},
   "outputs": [
    {
     "data": {
      "text/plain": [
       "36.85823043357163"
      ]
     },
     "execution_count": 5,
     "metadata": {},
     "output_type": "execute_result"
    }
   ],
   "source": [
    "# insert your code here\n",
    "data[data['sex']=='Female'].age.mean()"
   ]
  },
  {
   "cell_type": "markdown",
   "metadata": {},
   "source": [
    "### 3. What is the percentage of german citizens?"
   ]
  },
  {
   "cell_type": "code",
   "execution_count": 6,
   "metadata": {},
   "outputs": [
    {
     "name": "stdout",
     "output_type": "stream",
     "text": [
      "0.42074874850281013\n"
     ]
    }
   ],
   "source": [
    "# insert your code here\n",
    "g=data.groupby('native-country')\n",
    "a=data.shape[0]\n",
    "b=g.get_group('Germany').shape[0]\n",
    "print(b/a*100)"
   ]
  },
  {
   "cell_type": "markdown",
   "metadata": {},
   "source": [
    "### 4. What is the mean of age for those who earn more than 50K per year and those who earn less than 50K per year? "
   ]
  },
  {
   "cell_type": "code",
   "execution_count": 7,
   "metadata": {},
   "outputs": [
    {
     "name": "stdout",
     "output_type": "stream",
     "text": [
      "36.78373786407767\n",
      "44.24984058155847\n"
     ]
    }
   ],
   "source": [
    "# insert your code here\n",
    "p=data[data['salary']=='<=50K'].age.mean()\n",
    "k=data[data['salary']=='>50K'].age.mean()\n",
    "print(p)\n",
    "print(k)"
   ]
  },
  {
   "cell_type": "markdown",
   "metadata": {},
   "source": [
    "### 5. What is the standard deviation of age for those who earn more than 50K per year and those who earn less than 50K per year? "
   ]
  },
  {
   "cell_type": "code",
   "execution_count": 8,
   "metadata": {},
   "outputs": [
    {
     "name": "stdout",
     "output_type": "stream",
     "text": [
      "14.02008849082488\n",
      "10.519027719851826\n"
     ]
    }
   ],
   "source": [
    "# insert your code here\n",
    "p=data[data['salary']=='<=50K'].age.std()\n",
    "k=data[data['salary']=='>50K'].age.std()\n",
    "print(p)\n",
    "print(k)"
   ]
  },
  {
   "cell_type": "markdown",
   "metadata": {},
   "source": [
    "### 6. Is it true that people who earn more than 50K have at least high school education?"
   ]
  },
  {
   "cell_type": "code",
   "execution_count": 10,
   "metadata": {},
   "outputs": [
    {
     "name": "stdout",
     "output_type": "stream",
     "text": [
      "True\n"
     ]
    }
   ],
   "source": [
    "# insert your code here\n",
    "c=data[data['education-num']>=9].shape[0]\n",
    "if(c>0):\n",
    "    print(\"True\")\n",
    "else:\n",
    "    print(\"False\")"
   ]
  },
  {
   "cell_type": "markdown",
   "metadata": {},
   "source": [
    "### 7. Display age statistics for each race and each gender. Use groupby() and describe(). Find the maximum age of men of Amer-Indian-Eskimo race."
   ]
  },
  {
   "cell_type": "code",
   "execution_count": 11,
   "metadata": {},
   "outputs": [
    {
     "name": "stdout",
     "output_type": "stream",
     "text": [
      "Age statistics for each race\n",
      "                      count       mean        std   min   25%   50%   75%  \\\n",
      "race                                                                        \n",
      "Amer-Indian-Eskimo    311.0  37.173633  12.447130  17.0  28.0  35.0  45.5   \n",
      "Asian-Pac-Islander   1039.0  37.746872  12.825133  17.0  28.0  36.0  45.0   \n",
      "Black                3124.0  37.767926  12.759290  17.0  28.0  36.0  46.0   \n",
      "Other                 271.0  33.457565  11.538865  17.0  25.0  31.0  41.0   \n",
      "White               27816.0  38.769881  13.782306  17.0  28.0  37.0  48.0   \n",
      "\n",
      "                     max  \n",
      "race                      \n",
      "Amer-Indian-Eskimo  82.0  \n",
      "Asian-Pac-Islander  90.0  \n",
      "Black               90.0  \n",
      "Other               77.0  \n",
      "White               90.0  \n",
      "\n",
      "\n",
      "Age statistics for each gender\n",
      "          count       mean        std   min   25%   50%   75%   max\n",
      "sex                                                                \n",
      "Female  10771.0  36.858230  14.013697  17.0  25.0  35.0  46.0  90.0\n",
      "Male    21790.0  39.433547  13.370630  17.0  29.0  38.0  48.0  90.0\n",
      "\n",
      "\n",
      "Maximum age of men of Amer-Indian-Eskimo race is 82\n"
     ]
    }
   ],
   "source": [
    "# insert your code here\n",
    "race_group=data.groupby(['race'])\n",
    "gender_group=data.groupby(['sex'])\n",
    "men=gender_group.get_group('Male')\n",
    "race_group_of_men=men.groupby('race')\n",
    "rd=race_group['age'].describe()\n",
    "gd=gender_group['age'].describe()\n",
    "print('Age statistics for each race')\n",
    "print(rd)\n",
    "print('\\n\\nAge statistics for each gender')\n",
    "print(gd)\n",
    "AIE=race_group_of_men.get_group('Amer-Indian-Eskimo')\n",
    "print('\\n\\nMaximum age of men of Amer-Indian-Eskimo race is',AIE['age'].max())"
   ]
  },
  {
   "cell_type": "markdown",
   "metadata": {},
   "source": [
    "### 8. Among whom is the proportion of those who earn a lot (>50K) greater: married or single men? Consider as married those who have a marital-status starting with Married (Married-civ-spouse, Married-spouse-absent or Married-AF-spouse), the rest are considered bachelors."
   ]
  },
  {
   "cell_type": "code",
   "execution_count": 12,
   "metadata": {},
   "outputs": [
    {
     "name": "stdout",
     "output_type": "stream",
     "text": [
      "Married Men\n"
     ]
    }
   ],
   "source": [
    "# insert your code here\n",
    "allmen=data[data.sex=='Male']\n",
    "allmen_grouped=allmen.groupby('marital-status')\n",
    "MCS=allmen_grouped.get_group('Married-civ-spouse')\n",
    "MSA=allmen_grouped.get_group('Married-spouse-absent')\n",
    "MAS=allmen_grouped.get_group('Married-AF-spouse')\n",
    "dict_of_rich={}\n",
    "dict_of_rich[1]=len(MCS[MCS.salary=='>50K'])\n",
    "dict_of_rich[2]=len(MSA[MSA.salary=='>50K'])\n",
    "dict_of_rich[3]=len(MAS[MAS.salary=='>50K'])\n",
    "rich_married_men=0\n",
    "for i in dict_of_rich:\n",
    "    rich_married_men=dict_of_rich[i]+rich_married_men\n",
    "all_rich_men=len(allmen[allmen.salary=='>50K'])\n",
    "rich_bachelor_men=all_rich_men-rich_married_men\n",
    "if (rich_bachelor_men>rich_married_men):\n",
    "                 print('Bachelor Men')\n",
    "else:\n",
    "                 print('Married Men')"
   ]
  },
  {
   "cell_type": "markdown",
   "metadata": {},
   "source": [
    "### 9. What is the maximum number of hours a person works per week? How many people work such a number of hours, and what is the percentage of those who earn a lot (>50K) among them?"
   ]
  },
  {
   "cell_type": "code",
   "execution_count": 13,
   "metadata": {},
   "outputs": [
    {
     "name": "stdout",
     "output_type": "stream",
     "text": [
      "Max number of hours a person works per week : 99\n",
      "People who work max hours : 85\n",
      "People who work max hours and earn >50K : 25\n",
      "Percentage of people who work max hours and are rich : 29.411764705882355\n"
     ]
    }
   ],
   "source": [
    "# insert your code here\n",
    "max_hrs=data['hours-per-week'].max()\n",
    "maxhrs_ppl=len(data[data['hours-per-week']==max_hrs])\n",
    "rich_worklot=data[data['hours-per-week']==max_hrs]\n",
    "rich_worklot=len(rich_worklot[rich_worklot.salary=='>50K'])\n",
    "print('Max number of hours a person works per week :',max_hrs)\n",
    "print('People who work max hours :',maxhrs_ppl)\n",
    "print('People who work max hours and earn >50K :',rich_worklot)\n",
    "print('Percentage of people who work max hours and are rich :',(rich_worklot/maxhrs_ppl)*100)"
   ]
  },
  {
   "cell_type": "markdown",
   "metadata": {},
   "source": [
    "### 10. Count the average time of work for those who earn a little and a lot for each country. What will these be for Japan?"
   ]
  },
  {
   "cell_type": "code",
   "execution_count": 14,
   "metadata": {},
   "outputs": [
    {
     "name": "stdout",
     "output_type": "stream",
     "text": [
      "Average time of work for those who earn >50K in hours per week\n",
      "native-country\n",
      "?                     45.547945\n",
      "Cambodia              40.000000\n",
      "Canada                45.641026\n",
      "China                 38.900000\n",
      "Columbia              50.000000\n",
      "Cuba                  42.440000\n",
      "Dominican-Republic    47.000000\n",
      "Ecuador               48.750000\n",
      "El-Salvador           45.000000\n",
      "England               44.533333\n",
      "France                50.750000\n",
      "Germany               44.977273\n",
      "Greece                50.625000\n",
      "Guatemala             36.666667\n",
      "Haiti                 42.750000\n",
      "Honduras              60.000000\n",
      "Hong                  45.000000\n",
      "Hungary               50.000000\n",
      "India                 46.475000\n",
      "Iran                  47.500000\n",
      "Ireland               48.000000\n",
      "Italy                 45.400000\n",
      "Jamaica               41.100000\n",
      "Japan                 47.958333\n",
      "Laos                  40.000000\n",
      "Mexico                46.575758\n",
      "Nicaragua             37.500000\n",
      "Peru                  40.000000\n",
      "Philippines           43.032787\n",
      "Poland                39.000000\n",
      "Portugal              41.500000\n",
      "Puerto-Rico           39.416667\n",
      "Scotland              46.666667\n",
      "South                 51.437500\n",
      "Taiwan                46.800000\n",
      "Thailand              58.333333\n",
      "Trinadad&Tobago       40.000000\n",
      "United-States         45.505369\n",
      "Vietnam               39.200000\n",
      "Yugoslavia            49.500000\n",
      "Name: hours-per-week, dtype: float64\n",
      "\n",
      "\n",
      "\n",
      "Average time of work for those who earn <=50K in hours per week\n",
      "native-country\n",
      "?                             40.164760\n",
      "Cambodia                      41.416667\n",
      "Canada                        37.914634\n",
      "China                         37.381818\n",
      "Columbia                      38.684211\n",
      "Cuba                          37.985714\n",
      "Dominican-Republic            42.338235\n",
      "Ecuador                       38.041667\n",
      "El-Salvador                   36.030928\n",
      "England                       40.483333\n",
      "France                        41.058824\n",
      "Germany                       39.139785\n",
      "Greece                        41.809524\n",
      "Guatemala                     39.360656\n",
      "Haiti                         36.325000\n",
      "Holand-Netherlands            40.000000\n",
      "Honduras                      34.333333\n",
      "Hong                          39.142857\n",
      "Hungary                       31.300000\n",
      "India                         38.233333\n",
      "Iran                          41.440000\n",
      "Ireland                       40.947368\n",
      "Italy                         39.625000\n",
      "Jamaica                       38.239437\n",
      "Japan                         41.000000\n",
      "Laos                          40.375000\n",
      "Mexico                        40.003279\n",
      "Nicaragua                     36.093750\n",
      "Outlying-US(Guam-USVI-etc)    41.857143\n",
      "Peru                          35.068966\n",
      "Philippines                   38.065693\n",
      "Poland                        38.166667\n",
      "Portugal                      41.939394\n",
      "Puerto-Rico                   38.470588\n",
      "Scotland                      39.444444\n",
      "South                         40.156250\n",
      "Taiwan                        33.774194\n",
      "Thailand                      42.866667\n",
      "Trinadad&Tobago               37.058824\n",
      "United-States                 38.799127\n",
      "Vietnam                       37.193548\n",
      "Yugoslavia                    41.600000\n",
      "Name: hours-per-week, dtype: float64\n"
     ]
    }
   ],
   "source": [
    "# insert your code here\n",
    "rich_ppl=data[data.salary=='>50K']\n",
    "poor_ppl=data[data.salary=='<=50K']\n",
    "rich_group=rich_ppl.groupby(['native-country'])\n",
    "poor_group=poor_ppl.groupby(['native-country'])\n",
    "print('Average time of work for those who earn >50K in hours per week')\n",
    "print(rich_group['hours-per-week'].mean())\n",
    "print('\\n\\n\\nAverage time of work for those who earn <=50K in hours per week')\n",
    "print(poor_group['hours-per-week'].mean())"
   ]
  },
  {
   "cell_type": "code",
   "execution_count": 15,
   "metadata": {},
   "outputs": [
    {
     "name": "stdout",
     "output_type": "stream",
     "text": [
      "Hours per week of Japanese who earn >50K: 47.958333333333336\n",
      "Hours per week of Japanese who earn <=50K: 41.0\n"
     ]
    }
   ],
   "source": [
    "poor_jap=poor_group.get_group('Japan')\n",
    "rich_jap=rich_group.get_group('Japan')\n",
    "print('Hours per week of Japanese who earn >50K:',rich_jap['hours-per-week'].mean())\n",
    "print('Hours per week of Japanese who earn <=50K:',poor_jap['hours-per-week'].mean())"
   ]
  },
  {
   "cell_type": "code",
   "execution_count": null,
   "metadata": {},
   "outputs": [],
   "source": []
  }
 ],
 "metadata": {
  "kernelspec": {
   "display_name": "Python 3",
   "language": "python",
   "name": "python3"
  },
  "language_info": {
   "codemirror_mode": {
    "name": "ipython",
    "version": 3
   },
   "file_extension": ".py",
   "mimetype": "text/x-python",
   "name": "python",
   "nbconvert_exporter": "python",
   "pygments_lexer": "ipython3",
   "version": "3.8.2"
  }
 },
 "nbformat": 4,
 "nbformat_minor": 2
}
