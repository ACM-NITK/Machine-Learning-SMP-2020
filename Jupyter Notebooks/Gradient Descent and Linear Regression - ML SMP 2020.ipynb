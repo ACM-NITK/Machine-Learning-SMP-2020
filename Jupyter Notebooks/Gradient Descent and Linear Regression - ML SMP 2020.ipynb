{
 "cells": [
  {
   "cell_type": "markdown",
   "metadata": {},
   "source": [
    "# Import Libraries"
   ]
  },
  {
   "cell_type": "code",
   "execution_count": 1,
   "metadata": {},
   "outputs": [],
   "source": [
    "import numpy as np\n",
    "import matplotlib.pyplot as plt"
   ]
  },
  {
   "cell_type": "markdown",
   "metadata": {},
   "source": [
    "### Lets put in some data and plot it"
   ]
  },
  {
   "cell_type": "code",
   "execution_count": 2,
   "metadata": {},
   "outputs": [
    {
     "name": "stdout",
     "output_type": "stream",
     "text": [
      "[[32.50234527]\n",
      " [53.42680403]\n",
      " [61.53035803]\n",
      " [47.47563963]\n",
      " [59.81320787]\n",
      " [55.14218841]\n",
      " [52.21179669]\n",
      " [39.29956669]\n",
      " [48.10504169]\n",
      " [52.55001444]\n",
      " [45.41973014]\n",
      " [54.35163488]\n",
      " [44.1640495 ]\n",
      " [58.16847072]\n",
      " [56.72720806]\n",
      " [48.95588857]\n",
      " [44.68719623]\n",
      " [60.29732685]\n",
      " [45.61864377]\n",
      " [38.81681754]\n",
      " [66.18981661]\n",
      " [65.41605175]\n",
      " [47.48120861]\n",
      " [41.57564262]\n",
      " [51.84518691]\n",
      " [59.37082201]\n",
      " [57.31000344]\n",
      " [63.61556125]\n",
      " [46.73761941]\n",
      " [50.55676015]\n",
      " [52.22399609]\n",
      " [35.56783005]\n",
      " [42.43647694]\n",
      " [58.16454011]\n",
      " [57.50444762]\n",
      " [45.44053073]\n",
      " [61.89622268]\n",
      " [33.09383174]\n",
      " [36.43600951]\n",
      " [37.67565486]\n",
      " [44.55560838]\n",
      " [43.31828263]\n",
      " [50.07314563]\n",
      " [43.87061265]\n",
      " [62.99748075]\n",
      " [32.66904376]\n",
      " [40.16689901]\n",
      " [53.57507753]\n",
      " [33.86421497]\n",
      " [64.70713867]\n",
      " [38.11982403]\n",
      " [44.50253806]\n",
      " [40.59953838]\n",
      " [41.72067636]\n",
      " [51.08863468]\n",
      " [55.0780959 ]\n",
      " [41.37772653]\n",
      " [62.49469743]\n",
      " [49.20388754]\n",
      " [41.10268519]\n",
      " [41.18201611]\n",
      " [50.18638949]\n",
      " [52.37844622]\n",
      " [50.13548549]\n",
      " [33.64470601]\n",
      " [39.55790122]\n",
      " [56.13038882]\n",
      " [57.36205213]\n",
      " [60.26921439]\n",
      " [35.67809389]\n",
      " [31.588117  ]\n",
      " [53.66093226]\n",
      " [46.68222865]\n",
      " [43.10782022]\n",
      " [70.34607562]\n",
      " [44.49285588]\n",
      " [57.5045333 ]\n",
      " [36.93007661]\n",
      " [55.80573336]\n",
      " [38.95476907]\n",
      " [56.9012147 ]\n",
      " [56.86890066]\n",
      " [34.3331247 ]\n",
      " [59.04974121]\n",
      " [57.78822399]\n",
      " [54.28232871]\n",
      " [51.0887199 ]\n",
      " [50.28283635]\n",
      " [44.21174175]\n",
      " [38.00548801]\n",
      " [32.94047994]\n",
      " [53.69163957]\n",
      " [68.76573427]\n",
      " [46.2309665 ]\n",
      " [68.31936082]\n",
      " [50.03017434]\n",
      " [49.23976534]\n",
      " [50.03957594]\n",
      " [48.14985889]\n",
      " [25.12848465]]\n",
      "[[ 1.         32.50234527]\n",
      " [ 1.         53.42680403]\n",
      " [ 1.         61.53035803]\n",
      " [ 1.         47.47563963]\n",
      " [ 1.         59.81320787]\n",
      " [ 1.         55.14218841]\n",
      " [ 1.         52.21179669]\n",
      " [ 1.         39.29956669]\n",
      " [ 1.         48.10504169]\n",
      " [ 1.         52.55001444]\n",
      " [ 1.         45.41973014]\n",
      " [ 1.         54.35163488]\n",
      " [ 1.         44.1640495 ]\n",
      " [ 1.         58.16847072]\n",
      " [ 1.         56.72720806]\n",
      " [ 1.         48.95588857]\n",
      " [ 1.         44.68719623]\n",
      " [ 1.         60.29732685]\n",
      " [ 1.         45.61864377]\n",
      " [ 1.         38.81681754]\n",
      " [ 1.         66.18981661]\n",
      " [ 1.         65.41605175]\n",
      " [ 1.         47.48120861]\n",
      " [ 1.         41.57564262]\n",
      " [ 1.         51.84518691]\n",
      " [ 1.         59.37082201]\n",
      " [ 1.         57.31000344]\n",
      " [ 1.         63.61556125]\n",
      " [ 1.         46.73761941]\n",
      " [ 1.         50.55676015]\n",
      " [ 1.         52.22399609]\n",
      " [ 1.         35.56783005]\n",
      " [ 1.         42.43647694]\n",
      " [ 1.         58.16454011]\n",
      " [ 1.         57.50444762]\n",
      " [ 1.         45.44053073]\n",
      " [ 1.         61.89622268]\n",
      " [ 1.         33.09383174]\n",
      " [ 1.         36.43600951]\n",
      " [ 1.         37.67565486]\n",
      " [ 1.         44.55560838]\n",
      " [ 1.         43.31828263]\n",
      " [ 1.         50.07314563]\n",
      " [ 1.         43.87061265]\n",
      " [ 1.         62.99748075]\n",
      " [ 1.         32.66904376]\n",
      " [ 1.         40.16689901]\n",
      " [ 1.         53.57507753]\n",
      " [ 1.         33.86421497]\n",
      " [ 1.         64.70713867]\n",
      " [ 1.         38.11982403]\n",
      " [ 1.         44.50253806]\n",
      " [ 1.         40.59953838]\n",
      " [ 1.         41.72067636]\n",
      " [ 1.         51.08863468]\n",
      " [ 1.         55.0780959 ]\n",
      " [ 1.         41.37772653]\n",
      " [ 1.         62.49469743]\n",
      " [ 1.         49.20388754]\n",
      " [ 1.         41.10268519]\n",
      " [ 1.         41.18201611]\n",
      " [ 1.         50.18638949]\n",
      " [ 1.         52.37844622]\n",
      " [ 1.         50.13548549]\n",
      " [ 1.         33.64470601]\n",
      " [ 1.         39.55790122]\n",
      " [ 1.         56.13038882]\n",
      " [ 1.         57.36205213]\n",
      " [ 1.         60.26921439]\n",
      " [ 1.         35.67809389]\n",
      " [ 1.         31.588117  ]\n",
      " [ 1.         53.66093226]\n",
      " [ 1.         46.68222865]\n",
      " [ 1.         43.10782022]\n",
      " [ 1.         70.34607562]\n",
      " [ 1.         44.49285588]\n",
      " [ 1.         57.5045333 ]\n",
      " [ 1.         36.93007661]\n",
      " [ 1.         55.80573336]\n",
      " [ 1.         38.95476907]\n",
      " [ 1.         56.9012147 ]\n",
      " [ 1.         56.86890066]\n",
      " [ 1.         34.3331247 ]\n",
      " [ 1.         59.04974121]\n",
      " [ 1.         57.78822399]\n",
      " [ 1.         54.28232871]\n",
      " [ 1.         51.0887199 ]\n",
      " [ 1.         50.28283635]\n",
      " [ 1.         44.21174175]\n",
      " [ 1.         38.00548801]\n",
      " [ 1.         32.94047994]\n",
      " [ 1.         53.69163957]\n",
      " [ 1.         68.76573427]\n",
      " [ 1.         46.2309665 ]\n",
      " [ 1.         68.31936082]\n",
      " [ 1.         50.03017434]\n",
      " [ 1.         49.23976534]\n",
      " [ 1.         50.03957594]\n",
      " [ 1.         48.14985889]\n",
      " [ 1.         25.12848465]]\n"
     ]
    }
   ],
   "source": [
    "data = np.genfromtxt('data2.csv' , delimiter = ',')\n",
    "x = data[:,0].reshape(-1,1)\n",
    "print(x)\n",
    "\n",
    "ones = np.ones([x.shape[0],1])\n",
    "x = np.concatenate([ones , x],1)\n",
    "print(x)\n",
    "\n",
    "y = data[:,1].reshape(-1,1)"
   ]
  },
  {
   "cell_type": "code",
   "execution_count": 3,
   "metadata": {},
   "outputs": [
    {
     "data": {
      "image/png": "[encoded data removed]",
      "text/plain": [
       "<Figure size 432x288 with 1 Axes>"
      ]
     },
     "metadata": {
      "needs_background": "light"
     },
     "output_type": "display_data"
    }
   ],
   "source": [
    "plt.scatter(data[:,0].reshape(-1,1),y)\n",
    "plt.xlabel('data')\n",
    "plt.ylabel('target')\n",
    "plt.show()"
   ]
  },
  {
   "cell_type": "markdown",
   "metadata": {},
   "source": [
    "# Hyperparameters"
   ]
  },
  {
   "cell_type": "code",
   "execution_count": 4,
   "metadata": {},
   "outputs": [],
   "source": [
    "alpha = 0.000005 # keep a small value\n",
    "iters = 100000\n",
    "\n",
    "# lets create a row vector for the parameters(slope and intercept)\n",
    "\n",
    "params = np.array([[1,1]])"
   ]
  },
  {
   "cell_type": "markdown",
   "metadata": {},
   "source": [
    "# Cost Function\n",
    "\n",
    "Which is basically the half of mean squared error\n",
    "\n",
    "1/2 * sum( (y_pred-y)^2 )/n"
   ]
  },
  {
   "cell_type": "code",
   "execution_count": 5,
   "metadata": {},
   "outputs": [],
   "source": [
    "def computeCost(x, y, params):\n",
    "    err = np.power(((x @ params.T) - y), 2) \n",
    "    # @ means matrix multiplication of arrays. \n",
    "    # If we want to use * for multiplication we will have to convert all arrays to matrices\n",
    "    return np.sum(err) / (2 * len(x))"
   ]
  },
  {
   "cell_type": "code",
   "execution_count": 6,
   "metadata": {},
   "outputs": [
    {
     "data": {
      "text/plain": [
       "319.40631589398157"
      ]
     },
     "execution_count": 6,
     "metadata": {},
     "output_type": "execute_result"
    }
   ],
   "source": [
    "computeCost(x,y,params)"
   ]
  },
  {
   "cell_type": "markdown",
   "metadata": {},
   "source": [
    "# Gradient Function"
   ]
  },
  {
   "cell_type": "code",
   "execution_count": 7,
   "metadata": {},
   "outputs": [],
   "source": [
    "def gradientDescent(x, y, params, alpha, iters):\n",
    "    for i in range(iters):\n",
    "        params = params - (alpha/len(x)) * np.sum((x @ params.T - y) * x, axis=0)\n",
    "        cost = computeCost(x, y, params)\n",
    "        # if i % 10 == 0: # just look at cost every ten loops for debugging\n",
    "        #     print(cost)\n",
    "    return (params, cost)"
   ]
  },
  {
   "cell_type": "code",
   "execution_count": 8,
   "metadata": {},
   "outputs": [
    {
     "name": "stdout",
     "output_type": "stream",
     "text": [
      "[[1.13954489 1.4570947 ]] 56.01481298295379\n"
     ]
    }
   ],
   "source": [
    "g , cost = gradientDescent(x,y,params,alpha,iters)\n",
    "print (g , cost)"
   ]
  },
  {
   "cell_type": "code",
   "execution_count": 9,
   "metadata": {},
   "outputs": [
    {
     "data": {
      "text/plain": [
       "[<matplotlib.lines.Line2D at 0x23a8e7570c8>]"
      ]
     },
     "execution_count": 9,
     "metadata": {},
     "output_type": "execute_result"
    },
    {
     "data": {
      "image/png": "[encoded data removed]",
      "text/plain": [
       "<Figure size 432x288 with 1 Axes>"
      ]
     },
     "metadata": {
      "needs_background": "light"
     },
     "output_type": "display_data"
    }
   ],
   "source": [
    "plt.scatter(data[:, 0].reshape(-1,1), y , color = 'g' , s = 20)\n",
    "x_vals = np.array(data[:,0].reshape(-1,1)) \n",
    "y_vals = g[0][0] + g[0][1]* x_vals #the line equation\n",
    "plt.plot(x_vals, y_vals, '--')"
   ]
  },
  {
   "cell_type": "markdown",
   "metadata": {},
   "source": [
    "--------------------------------------------------------------------------------------------------------------------------"
   ]
  }
 ],
 "metadata": {
  "kernelspec": {
   "display_name": "Python 3",
   "language": "python",
   "name": "python3"
  },
  "language_info": {
   "codemirror_mode": {
    "name": "ipython",
    "version": 3
   },
   "file_extension": ".py",
   "mimetype": "text/x-python",
   "name": "python",
   "nbconvert_exporter": "python",
   "pygments_lexer": "ipython3",
   "version": "3.7.5"
  }
 },
 "nbformat": 4,
 "nbformat_minor": 2
}
